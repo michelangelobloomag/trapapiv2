{
 "cells": [
  {
   "cell_type": "markdown",
   "id": "113476c9",
   "metadata": {},
   "source": [
    "### THIS SCRIPT WILL GENERATE WEATHER MODELS ###\n",
    "\n",
    "* requires having the weather data first (downloaded daily)"
   ]
  },
  {
   "cell_type": "code",
   "execution_count": 1,
   "id": "94de45de",
   "metadata": {},
   "outputs": [],
   "source": [
    "import pickle\n",
    "import pandas as pd\n",
    "import numpy as np"
   ]
  },
  {
   "cell_type": "code",
   "execution_count": 2,
   "id": "3244d1ab",
   "metadata": {},
   "outputs": [],
   "source": [
    "from sklearn.model_selection import train_test_split\n",
    "from sklearn.model_selection import KFold \n",
    "from sklearn.metrics import r2_score"
   ]
  },
  {
   "cell_type": "code",
   "execution_count": 3,
   "id": "2b69bb71",
   "metadata": {},
   "outputs": [],
   "source": [
    "from sklearn.ensemble import AdaBoostRegressor\n",
    "from sklearn.tree import DecisionTreeRegressor"
   ]
  },
  {
   "cell_type": "code",
   "execution_count": 4,
   "id": "a47c7a78",
   "metadata": {},
   "outputs": [],
   "source": [
    "from sklearn.ensemble import GradientBoostingRegressor\n",
    "from sklearn.metrics import mean_pinball_loss, mean_squared_error"
   ]
  },
  {
   "cell_type": "code",
   "execution_count": 5,
   "id": "f5c9c6aa",
   "metadata": {},
   "outputs": [],
   "source": [
    "import libbloom as lb"
   ]
  },
  {
   "cell_type": "code",
   "execution_count": 6,
   "id": "a00d39db",
   "metadata": {},
   "outputs": [],
   "source": [
    "from scipy.optimize import curve_fit"
   ]
  },
  {
   "cell_type": "code",
   "execution_count": 7,
   "id": "84ee150a",
   "metadata": {},
   "outputs": [],
   "source": [
    "from scipy.stats import lognorm,expon"
   ]
  },
  {
   "cell_type": "code",
   "execution_count": 8,
   "id": "ff9cc366",
   "metadata": {},
   "outputs": [],
   "source": [
    "import glob\n",
    "from datetime import date, timedelta"
   ]
  },
  {
   "cell_type": "code",
   "execution_count": 9,
   "id": "9e2a7042",
   "metadata": {},
   "outputs": [],
   "source": [
    "import warnings\n",
    "warnings.filterwarnings(\"ignore\")"
   ]
  },
  {
   "cell_type": "code",
   "execution_count": 10,
   "id": "1100056a",
   "metadata": {},
   "outputs": [],
   "source": [
    "## create several empty models with adabost\n",
    "\n",
    "regr_1 = DecisionTreeRegressor(max_depth=4)\n",
    "\n",
    "regr_2a = AdaBoostRegressor(\n",
    "    DecisionTreeRegressor(max_depth=4), n_estimators=300, random_state=42\n",
    ")\n",
    "regr_2b = AdaBoostRegressor(\n",
    "    DecisionTreeRegressor(max_depth=4), n_estimators=300, random_state=42\n",
    ")\n",
    "regr_2c = AdaBoostRegressor(\n",
    "    DecisionTreeRegressor(max_depth=4), n_estimators=300, random_state=42\n",
    ")\n",
    "\n",
    "\n",
    "regr_3a = AdaBoostRegressor(\n",
    "    DecisionTreeRegressor(max_depth=4), n_estimators=300, random_state=42\n",
    ")\n",
    "regr_3b = AdaBoostRegressor(\n",
    "    DecisionTreeRegressor(max_depth=4), n_estimators=300, random_state=42\n",
    ")\n",
    "regr_3c = AdaBoostRegressor(\n",
    "    DecisionTreeRegressor(max_depth=4), n_estimators=300, random_state=42\n",
    ")"
   ]
  },
  {
   "cell_type": "code",
   "execution_count": 11,
   "id": "bea3f9ac",
   "metadata": {},
   "outputs": [],
   "source": [
    "def specialTraining(X_train,y_train):\n",
    "    ## created the training set and model for quantile regression\n",
    "    all_models = {}\n",
    "    common_params = dict(\n",
    "        learning_rate=0.05,\n",
    "        n_estimators=300,\n",
    "        max_depth=3,\n",
    "        min_samples_leaf=4,\n",
    "        min_samples_split=4,\n",
    "    )\n",
    "    for alpha in [0.05, 0.5, 0.95]:\n",
    "        gbr = GradientBoostingRegressor(loss=\"quantile\", alpha=alpha, **common_params)\n",
    "        all_models[\"q %1.2f\" % alpha] = gbr.fit(X_train, y_train)\n",
    "    return all_models"
   ]
  },
  {
   "cell_type": "code",
   "execution_count": 12,
   "id": "1cc82550",
   "metadata": {},
   "outputs": [],
   "source": [
    "def logifunc(x,l,c,k):\n",
    "    # logistic + constant\n",
    "    global delta\n",
    "    return l / (1 + c*np.exp(-k*x)) + delta "
   ]
  },
  {
   "cell_type": "code",
   "execution_count": 13,
   "id": "919598da",
   "metadata": {},
   "outputs": [],
   "source": [
    "def poli(x,a,b,c,d):\n",
    "    # polynomial\n",
    "    global delta\n",
    "    return a*x**4 + b*x**3 + c*x**2 + d*x + delta "
   ]
  },
  {
   "cell_type": "code",
   "execution_count": 14,
   "id": "4a3b3ec0",
   "metadata": {},
   "outputs": [],
   "source": [
    "def fitL(ds,polin =False):\n",
    "    # fit polynomial or logistics to the data\n",
    "    xdata = np.arange(len(ds))\n",
    "    ydata = ds.values\n",
    "    if(polin):\n",
    "        popt, pcov = curve_fit(poli, xdata, ydata)\n",
    "        a,b,c,d = popt\n",
    "        ycs = []\n",
    "        for x in xdata:\n",
    "            ycs.append(poli(x,a,b,c,d) )\n",
    "        dm = pd.DataFrame(index = ds.index, data = {'data' : ds.values, 'polinomial' : ycs})        \n",
    "        \n",
    "    else:\n",
    "        popt, pcov = curve_fit(logifunc, xdata, ydata)\n",
    "        l,c,k = popt\n",
    "        ycs = []\n",
    "        for x in xdata:\n",
    "            ycs.append(logifunc(x,l,c,k) )\n",
    "        dm = pd.DataFrame(index = ds.index, data = {'data' : ds.values, 'logistic' : ycs})\n",
    "    return dm, popt"
   ]
  },
  {
   "cell_type": "code",
   "execution_count": 15,
   "id": "f8910d82",
   "metadata": {},
   "outputs": [],
   "source": [
    "def getCelsius(F):\n",
    "    #utility (should be moved in the lib)\n",
    "    Celsius = (F - 32) * 5.0/9.0\n",
    "    return Celsius"
   ]
  },
  {
   "cell_type": "code",
   "execution_count": 16,
   "id": "a1bdfcf6",
   "metadata": {},
   "outputs": [],
   "source": [
    "def createDD(dfWy,thresholds_pest):  \n",
    "    ## creates degree days\n",
    "    stations = dfWy.pnum.unique()\n",
    "    dfAll = []\n",
    "    for st in stations:\n",
    "        df = dfWy[dfWy.pnum == st]\n",
    "        dds = []\n",
    "        for day,tmin,tmax,lat,lon,pres,elev,wspd in zip(df.date.values,df.tmin.values, \n",
    "                                                        df.tmax.values,df.lat.values, \n",
    "                                                        df.lon.values,\n",
    "                                                        df.pres.values,\n",
    "                                                        df.elev.values,\n",
    "                                                        df.wspd.values):\n",
    "            try:\n",
    "                d = lb.computeDDaysSine(tmin,tmax, thresholds_pest['lower'], thresholds_pest['upper']) # call from the lib\n",
    "            except:\n",
    "                d = 0\n",
    "            dds.append({'day': day, 'degree' : d, 'pnum' : st, 'lat' : lat, 'lon' : lon, \n",
    "                        'pres' : pres , 'elev':elev, 'wspd':wspd})\n",
    "        ds = pd.DataFrame(dds)\n",
    "        ds = ds.set_index('day')\n",
    "        ds = ds.assign(ddays = ds.degree.cumsum()) ## ddays is for the insect not general ddays\n",
    "        dfAll.append(ds)\n",
    "    dfT = pd.concat(dfAll)\n",
    "    dfT = dfT.fillna(0) ##\n",
    "    return dfT"
   ]
  },
  {
   "cell_type": "code",
   "execution_count": 17,
   "id": "df74b55d",
   "metadata": {},
   "outputs": [],
   "source": [
    "def getXY(dfT):\n",
    "    # y = last point\n",
    "    # get X, and Y for training\n",
    "    stations = dfT.pnum.unique()\n",
    "    ys = []\n",
    "    xs = []\n",
    "    for st in stations:\n",
    "        df = dfT[dfT.pnum == st]\n",
    "        df = df.fillna(method='ffill')\n",
    "        dda = df.ddays.values[-1]\n",
    "        x = df[['lat','lon','elev','pres','wspd']].values[-1]\n",
    "        xs.append(x)\n",
    "        ys.append(dda)\n",
    "    return np.array(xs), np.array(ys).ravel()"
   ]
  },
  {
   "cell_type": "code",
   "execution_count": 18,
   "id": "98f685fb",
   "metadata": {},
   "outputs": [],
   "source": [
    "def getXY_pres(dfT):\n",
    "    # y = last point\n",
    "    # simplified model to get the model for pressure \n",
    "    stations = dfT.pnum.unique()\n",
    "    ys = []\n",
    "    xs = []\n",
    "    for st in stations:\n",
    "        df = dfT[dfT.pnum == st]\n",
    "        df = df.fillna(method='ffill')\n",
    "        pr = df.pres.values[-1]\n",
    "        x = df[['lat','lon','elev']].values[-1]\n",
    "        xs.append(x)\n",
    "        ys.append(pr)\n",
    "    return np.array(xs), np.array(ys).ravel()"
   ]
  },
  {
   "cell_type": "code",
   "execution_count": 19,
   "id": "5a43b443",
   "metadata": {},
   "outputs": [],
   "source": [
    "def getXY_wspd(dfT):\n",
    "    # y = last point\n",
    "    # simplified model to get the model for pressure \n",
    "    stations = dfT.pnum.unique()\n",
    "    ys = []\n",
    "    xs = []\n",
    "    for st in stations:\n",
    "        df = dfT[dfT.pnum == st]\n",
    "        df = df.fillna(method='ffill')\n",
    "        ws = df.wspd.values[-1]\n",
    "        x = df[['lat','lon','elev']].values[-1]\n",
    "        xs.append(x)\n",
    "        ys.append(ws)\n",
    "    return np.array(xs), np.array(ys).ravel()"
   ]
  },
  {
   "cell_type": "code",
   "execution_count": 20,
   "id": "a10093c6",
   "metadata": {},
   "outputs": [],
   "source": [
    "def createModelsForDDPrediction(dfT,regr_2a,regr_2b,regr_2c,gbr = False):\n",
    "    # model for winds from lat/lon/elev\n",
    "    Xwind, ywind = getXY_wspd(dfT)\n",
    "    model_wind = regr_2c.fit(Xwind, ywind)\n",
    "\n",
    "    # model for pressure from lat/lon/elev\n",
    "    Xpress, ypress = getXY_pres(dfT)\n",
    "    model_press = regr_2b.fit(Xpress,ypress)\n",
    "    \n",
    "    # general model (incorporate wind/pressure/elevation)\n",
    "    X, ys = getXY(dfT)\n",
    "    if(gbr):\n",
    "        #model_gen = regr_2a.fit(X,ys)\n",
    "        all_models = specialTraining(X,ys)\n",
    "        return all_models,model_press,model_wind\n",
    "    else:\n",
    "        model_gen = regr_2a.fit(X,ys)\n",
    "        return model_gen,model_press,model_wind"
   ]
  },
  {
   "cell_type": "code",
   "execution_count": 21,
   "id": "b0914863",
   "metadata": {},
   "outputs": [],
   "source": [
    "def nestModels(point_and_elevation,model_gen,model_press,model_wind,gbr = False):\n",
    "    # all models are nested to get the prediction\n",
    "    # args:\n",
    "    # point_and_elevation =  [lat, lon, elevation] as a numpy array shape (1,3)\n",
    "    #\n",
    "    # example \n",
    "    # pp = np.array([3.94824123e+01, -4.88099096e-01,  8.50000000e+01]).reshape(1,-1)\n",
    "    #\n",
    "    #\n",
    "    def checkShape(s):\n",
    "        if(s.shape == (1,3)):\n",
    "            return True\n",
    "        else:\n",
    "            return False\n",
    "    \n",
    "    if(checkShape(point_and_elevation)):\n",
    "        wind_prediction = model_wind.predict(point_and_elevation)[0]\n",
    "        pressure_prediction = model_press.predict(point_and_elevation)[0]\n",
    "        # nest the predictions \n",
    "        extended_point = np.append(point_and_elevation,[pressure_prediction,wind_prediction]).reshape(1,-1)\n",
    "        \n",
    "        if(gbr):\n",
    "            ddps = []\n",
    "            for md in model_gen.values():\n",
    "                ddays_prediction = md.predict(extended_point)[0]\n",
    "                ddps.append(ddays_prediction)\n",
    "            return ddps\n",
    "        else:\n",
    "            ddays_prediction = model_gen.predict(extended_point)[0]\n",
    "            return ddays_prediction\n",
    "    else:\n",
    "        print(\"point_and_elevation should have shape: (1,3)\")\n",
    "        return False"
   ]
  },
  {
   "cell_type": "code",
   "execution_count": 22,
   "id": "6256457f",
   "metadata": {},
   "outputs": [],
   "source": [
    "def saveModels(dfW,thresholds_spodoptera,outmodel, stop, start = '2023-01-01'): # the jst jan should be updated by 2024\n",
    "    # save models\n",
    "    models = {}\n",
    "    for dm in pd.date_range(start=start,end=stop,freq='D'):\n",
    "        dfWy = dfW[dfW.date <= dm]\n",
    "        dfWy = dfWy.fillna(0) ## fillna with 0s\n",
    "        regr_2a = AdaBoostRegressor(\n",
    "            DecisionTreeRegressor(max_depth=4), n_estimators=300, random_state=42\n",
    "        )\n",
    "        regr_2b = AdaBoostRegressor(\n",
    "            DecisionTreeRegressor(max_depth=4), n_estimators=300, random_state=42\n",
    "        )\n",
    "        regr_2c = AdaBoostRegressor(\n",
    "            DecisionTreeRegressor(max_depth=4), n_estimators=300, random_state=42\n",
    "        )\n",
    "        try:\n",
    "            dfT = createDD(dfWy,thresholds_spodoptera)\n",
    "            model_gen,model_press,model_wind = createModelsForDDPrediction(dfT,regr_2a,regr_2b,regr_2c,True) ## uses ddays referring to yesterday\n",
    "            models[dm] = {'model_gen' : model_gen, 'model_press' : model_press, 'model_wind' : model_wind}\n",
    "            print(dm)\n",
    "        except:\n",
    "            pass\n",
    "    pickle.dump(models,open(outmodel,\"wb\"))\n",
    "    return models"
   ]
  },
  {
   "cell_type": "code",
   "execution_count": 23,
   "id": "2515688f",
   "metadata": {},
   "outputs": [],
   "source": [
    "thresholds_spodoptera = {'lower' : getCelsius(53.), 'upper' : getCelsius(95.)} ## others ! "
   ]
  },
  {
   "cell_type": "markdown",
   "id": "d15961a0",
   "metadata": {},
   "source": [
    "**Joins the weather files (since jan)**"
   ]
  },
  {
   "cell_type": "code",
   "execution_count": 7,
   "id": "f9591331",
   "metadata": {},
   "outputs": [],
   "source": [
    "wfiles = glob.glob(\"WeatherAndClimateData/WeatherSpain*.gz\")"
   ]
  },
  {
   "cell_type": "code",
   "execution_count": 8,
   "id": "7057ff29",
   "metadata": {},
   "outputs": [
    {
     "data": {
      "text/plain": [
       "['WeatherAndClimateData/WeatherSpain__2023-06-01 00:00:00__2023-07-01 14:59:21.415026.pickle.gz',\n",
       " 'WeatherAndClimateData/WeatherSpain2023Jun01.pickle.gz']"
      ]
     },
     "execution_count": 8,
     "metadata": {},
     "output_type": "execute_result"
    }
   ],
   "source": [
    "wfiles"
   ]
  },
  {
   "cell_type": "code",
   "execution_count": 26,
   "id": "29280a2f",
   "metadata": {},
   "outputs": [],
   "source": [
    "dtmp =[]\n",
    "for w in wfiles:\n",
    "    dftmp = pd.read_pickle(w)\n",
    "    dtmp.append(dftmp)\n",
    "    "
   ]
  },
  {
   "cell_type": "code",
   "execution_count": 27,
   "id": "06247510",
   "metadata": {},
   "outputs": [],
   "source": [
    "dfW = pd.concat(dtmp)\n",
    "dfW = dfW.assign(date = dfW.index)\n",
    "dfW = dfW.drop_duplicates()"
   ]
  },
  {
   "cell_type": "code",
   "execution_count": 28,
   "id": "31d49422",
   "metadata": {},
   "outputs": [
    {
     "name": "stdout",
     "output_type": "stream",
     "text": [
      "CPU times: user 1.17 s, sys: 0 ns, total: 1.17 s\n",
      "Wall time: 1.17 s\n"
     ]
    }
   ],
   "source": [
    "%%time\n",
    "dfT = createDD(dfW,thresholds_spodoptera) ## create dd data for all days till 2023"
   ]
  },
  {
   "cell_type": "code",
   "execution_count": 29,
   "id": "b549ef83",
   "metadata": {},
   "outputs": [],
   "source": []
  },
  {
   "cell_type": "code",
   "execution_count": null,
   "id": "73f5dae8",
   "metadata": {},
   "outputs": [],
   "source": []
  },
  {
   "cell_type": "code",
   "execution_count": 30,
   "id": "47020ab8",
   "metadata": {},
   "outputs": [],
   "source": []
  },
  {
   "cell_type": "code",
   "execution_count": 31,
   "id": "860d51f6",
   "metadata": {},
   "outputs": [],
   "source": [
    "today, yesterday,firstJan = lb.getUtilDates()\n"
   ]
  },
  {
   "cell_type": "markdown",
   "id": "6c553a43",
   "metadata": {},
   "source": [
    "**This function must run once a day**"
   ]
  },
  {
   "cell_type": "code",
   "execution_count": null,
   "id": "12f4f147",
   "metadata": {},
   "outputs": [],
   "source": [
    "savedir = \"savedModels/spodoptera/\" ## make it parametric for other pests\n",
    "outmodel = savedir + \"WeatherModels.pickle\""
   ]
  },
  {
   "cell_type": "code",
   "execution_count": null,
   "id": "39396a42",
   "metadata": {},
   "outputs": [],
   "source": [
    "models = saveModels(dfW,thresholds_spodoptera,outmodel, yesterday, start = firstJan)"
   ]
  },
  {
   "cell_type": "code",
   "execution_count": null,
   "id": "30d63371",
   "metadata": {},
   "outputs": [],
   "source": []
  }
 ],
 "metadata": {
  "kernelspec": {
   "display_name": "Python 3 (ipykernel)",
   "language": "python",
   "name": "python3"
  },
  "language_info": {
   "codemirror_mode": {
    "name": "ipython",
    "version": 3
   },
   "file_extension": ".py",
   "mimetype": "text/x-python",
   "name": "python",
   "nbconvert_exporter": "python",
   "pygments_lexer": "ipython3",
   "version": "3.10.6"
  }
 },
 "nbformat": 4,
 "nbformat_minor": 5
}
