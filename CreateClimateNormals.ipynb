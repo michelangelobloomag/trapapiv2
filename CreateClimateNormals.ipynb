{
 "cells": [
  {
   "cell_type": "markdown",
   "id": "03138109",
   "metadata": {},
   "source": [
    "### CREATE CLIMATE NORMALS FOR A COUNTRY ###"
   ]
  },
  {
   "cell_type": "markdown",
   "id": "1b1ebcb8",
   "metadata": {},
   "source": [
    "**Uses meteostat**"
   ]
  },
  {
   "cell_type": "code",
   "execution_count": 115,
   "id": "06a097cc",
   "metadata": {},
   "outputs": [],
   "source": [
    "# Import Meteostat library and dependencies\n",
    "from datetime import datetime\n",
    "import matplotlib.pyplot as plt\n",
    "from meteostat import Point as meteo_Point\n",
    "from meteostat import Daily as meteo_Daily"
   ]
  },
  {
   "cell_type": "code",
   "execution_count": 116,
   "id": "4b4f7c9c",
   "metadata": {},
   "outputs": [],
   "source": [
    "import geopandas as gpd\n",
    "import numpy as np\n",
    "from shapely.geometry import Point, Polygon\n",
    "import os\n",
    "import pickle\n",
    "import requests"
   ]
  },
  {
   "cell_type": "markdown",
   "id": "7b3a818b",
   "metadata": {},
   "source": [
    "**Write a function to download data according to the country, always level0 or level1 for the largest ones (i.e. USA)**"
   ]
  },
  {
   "cell_type": "code",
   "execution_count": 117,
   "id": "b093dbae",
   "metadata": {},
   "outputs": [],
   "source": [
    "import pycountry"
   ]
  },
  {
   "cell_type": "code",
   "execution_count": 118,
   "id": "b73bb08c",
   "metadata": {},
   "outputs": [],
   "source": [
    "import pandas as pd\n",
    "import matplotlib.pyplot as plt\n",
    "import numpy as np\n",
    "from shapely.geometry import Point, Polygon"
   ]
  },
  {
   "cell_type": "code",
   "execution_count": 119,
   "id": "6a892476",
   "metadata": {},
   "outputs": [],
   "source": [
    "import time"
   ]
  },
  {
   "cell_type": "markdown",
   "id": "bffe5ceb",
   "metadata": {},
   "source": [
    "**point in polygon business**"
   ]
  },
  {
   "cell_type": "code",
   "execution_count": 120,
   "id": "8bcd95ed",
   "metadata": {},
   "outputs": [],
   "source": [
    "def getGeoJson(country_name):\n",
    "    cn = pycountry.countries.get(name=country_name)\n",
    "    country_code_3 = cn.alpha_3          \n",
    "    url = \"https://geodata.ucdavis.edu/gadm/gadm4.1/json/\"\n",
    "    cmd = \"wget %s/gadm41_%s_0.json\"%(url,country_code_3)\n",
    "    os.system(cmd)\n",
    "    return \"gadm41_%s_0.json\"%(country_code_3)"
   ]
  },
  {
   "cell_type": "code",
   "execution_count": 121,
   "id": "b088d20f",
   "metadata": {},
   "outputs": [],
   "source": [
    "\n",
    "\n",
    "def Random_Points_in_Bounds(polygon, number):   \n",
    "    minx, miny, maxx, maxy = polygon.bounds.values[0]\n",
    "    x = np.random.uniform( minx, maxx, number )\n",
    "    y = np.random.uniform( miny, maxy, number )\n",
    "    return x, y"
   ]
  },
  {
   "cell_type": "code",
   "execution_count": 122,
   "id": "c2c927e2",
   "metadata": {},
   "outputs": [],
   "source": [
    "def getPointsInPolygon(shp, number=2000):\n",
    "    x,y = Random_Points_in_Bounds(shp.geometry, number)\n",
    "    df = pd.DataFrame()\n",
    "    df['points'] = list(zip(x,y))\n",
    "    df['points'] = df['points'].apply(Point)\n",
    "    gdf_points = gpd.GeoDataFrame(df, geometry='points')\n",
    "    Sjoin = gpd.tools.sjoin(gdf_points, shp, predicate=\"within\", how='left')\n",
    "\n",
    "    # Keep points in \"myPoly\"\n",
    "    pnts_in_poly = gdf_points[Sjoin.index_right==0.]\n",
    "    return pnts_in_poly"
   ]
  },
  {
   "cell_type": "markdown",
   "id": "e861f524",
   "metadata": {},
   "source": [
    "**check the results**"
   ]
  },
  {
   "cell_type": "code",
   "execution_count": 123,
   "id": "bb4b90c9",
   "metadata": {},
   "outputs": [],
   "source": [
    "def plotGeo(shp,pnts_in_poly):\n",
    "    fig = plt.figure(figsize=(12,10))\n",
    "    ax = plt.gca()\n",
    "    base = shp.boundary.plot(linewidth=1, edgecolor=\"black\", ax = ax)\n",
    "    pnts_in_poly.plot(ax=base, linewidth=1, color=\"red\", markersize=1)\n",
    "    plt.show()\n"
   ]
  },
  {
   "cell_type": "code",
   "execution_count": 124,
   "id": "6e92fcd8",
   "metadata": {},
   "outputs": [],
   "source": [
    "def climateNormalsDaily(data):\n",
    "    data = data.assign(tmp = data.index)\n",
    "    data = data.assign(month_day = data.tmp.dt.strftime(\"%m-%d\"))\n",
    "    return data"
   ]
  },
  {
   "cell_type": "code",
   "execution_count": null,
   "id": "8e2769ba",
   "metadata": {},
   "outputs": [],
   "source": [
    "country_name = 'Spain' ## check gadm.org"
   ]
  },
  {
   "cell_type": "markdown",
   "id": "d1778dcb",
   "metadata": {},
   "source": [
    "get the polygon"
   ]
  },
  {
   "cell_type": "code",
   "execution_count": 130,
   "id": "474e3c1e",
   "metadata": {},
   "outputs": [
    {
     "name": "stderr",
     "output_type": "stream",
     "text": [
      "UserWarning: CRS mismatch between the CRS of left geometries and the CRS of right geometries.\n",
      "Use `to_crs()` to reproject one of the input geometries to match the CRS of the other.\n",
      "\n",
      "Left CRS: None\n",
      "Right CRS: EPSG:4326\n",
      "\n"
     ]
    }
   ],
   "source": [
    "#geojfile = getGeoJson('Spain')\n",
    "shp = gpd.read_file(geojfile)\n",
    "pnts_in_poly = getPointsInPolygon(shp,10000)"
   ]
  },
  {
   "cell_type": "code",
   "execution_count": 131,
   "id": "b5396f94",
   "metadata": {},
   "outputs": [
    {
     "data": {
      "image/png": "[encoded data removed]",
      "text/plain": [
       "<Figure size 864x720 with 1 Axes>"
      ]
     },
     "metadata": {
      "needs_background": "light"
     },
     "output_type": "display_data"
    }
   ],
   "source": [
    "plotGeo(shp,pnts_in_poly)"
   ]
  },
  {
   "cell_type": "markdown",
   "id": "5a898163",
   "metadata": {},
   "source": [
    "**Get point by point all 2000 candidates**"
   ]
  },
  {
   "cell_type": "code",
   "execution_count": 132,
   "id": "4492c216",
   "metadata": {},
   "outputs": [],
   "source": [
    "\n",
    "def getElevationUSGS(lat,lon):\n",
    "    url = \"https://api.opentopodata.org/v1/srtm90m\"\n",
    "    data = {'interpolation': 'cubic', 'locations': '%.5f,%.5f'%(lat,lon)}\n",
    "    response = requests.post(url, data=data)\n",
    "    js = response.json()\n",
    "    elev = js['results'][0]['elevation']\n",
    "    return elev"
   ]
  },
  {
   "cell_type": "code",
   "execution_count": 133,
   "id": "8bad4517",
   "metadata": {},
   "outputs": [],
   "source": [
    "def getClimateNormals(pnts_in_poly, limit=True):\n",
    "    allDataNormals = []\n",
    "    \n",
    "    if(limit): ## only 10 points as a test default\n",
    "        mmin,mmax = 1,10\n",
    "        vector_of_points = pnts_in_poly[mmin:mmax].points\n",
    "    else:\n",
    "        vector_of_points = pnts_in_poly.points\n",
    "        \n",
    "        \n",
    "    for pnum, p in enumerate(vector_of_points): \n",
    "    \n",
    "        lat = p.y\n",
    "        lon = p.x\n",
    "        start = datetime(2008, 1, 1)\n",
    "        end = datetime(2022, 12, 31)\n",
    "        point_meteostat = meteo_Point(lat,lon)\n",
    "        data = []\n",
    "        elev = getElevationUSGS(lat,lon)\n",
    "        try:\n",
    "            try:\n",
    "                data = meteo_Daily(point_meteostat, start, end)\n",
    "                data = data.fetch()\n",
    "            except Exception as e:\n",
    "                print(str(e))\n",
    "                pass\n",
    "            if(len(data) >0):\n",
    "                data = climateNormalsDaily(data)\n",
    "                data_mean = data.groupby('month_day').mean() ## climate normal\n",
    "                data_mean = data_mean.assign(elevation = elev)\n",
    "                data_mean = data_mean.assign(pnum = pnum)\n",
    "                data_mean = data_mean.assign(lat = lat)\n",
    "                data_mean = data_mean.assign(lon = lon)\n",
    "                allDataNormals.append(data_mean)\n",
    "\n",
    "        except Exception as e:\n",
    "            time.sleep(2)\n",
    "        \n",
    "        time.sleep(1) ## we need to be polite with them, avoiding massive downloads in a short time\n",
    "        if(pnum%10 == 0 and pnum >0):\n",
    "            pickle.dump(allDataNormals, open(\"allDataNormals_tmp.pickle\",\"wb\"))\n",
    "            print(\"Done\", pnum)\n",
    "        \n",
    "    pickle.dump(allDataNormals, open(\"allDataNormals_tmp.pickle\",\"wb\"))\n",
    "    return pd.concat(allDataNormals)\n",
    "    "
   ]
  },
  {
   "cell_type": "code",
   "execution_count": 135,
   "id": "38321b7e",
   "metadata": {},
   "outputs": [
    {
     "name": "stdout",
     "output_type": "stream",
     "text": [
      "Done 10\n",
      "Done 20\n"
     ]
    },
    {
     "name": "stderr",
     "output_type": "stream",
     "text": [
      "Warning: Cannot load daily/08232.csv.gz from https://bulk.meteostat.net/v2/\n"
     ]
    },
    {
     "name": "stdout",
     "output_type": "stream",
     "text": [
      "Done 30\n",
      "Done 40\n",
      "Done 50\n",
      "Done 60\n"
     ]
    },
    {
     "name": "stderr",
     "output_type": "stream",
     "text": [
      "Warning: Cannot load daily/08180.csv.gz from https://bulk.meteostat.net/v2/\n"
     ]
    },
    {
     "name": "stdout",
     "output_type": "stream",
     "text": [
      "Done 70\n",
      "Done 80\n",
      "Done 90\n",
      "Done 100\n",
      "Done 110\n",
      "Done 120\n"
     ]
    },
    {
     "name": "stderr",
     "output_type": "stream",
     "text": [
      "Warning: Cannot load daily/08161.csv.gz from https://bulk.meteostat.net/v2/\n"
     ]
    },
    {
     "name": "stdout",
     "output_type": "stream",
     "text": [
      "Done 130\n",
      "Done 140\n",
      "Done 150\n",
      "Done 160\n"
     ]
    },
    {
     "name": "stderr",
     "output_type": "stream",
     "text": [
      "Warning: Cannot load daily/08302.csv.gz from https://bulk.meteostat.net/v2/\n",
      "Warning: Cannot load daily/08301.csv.gz from https://bulk.meteostat.net/v2/\n"
     ]
    },
    {
     "name": "stdout",
     "output_type": "stream",
     "text": [
      "Done 170\n",
      "Done 180\n",
      "Done 190\n",
      "Done 200\n"
     ]
    },
    {
     "name": "stderr",
     "output_type": "stream",
     "text": [
      "Warning: Cannot load daily/08094.csv.gz from https://bulk.meteostat.net/v2/\n"
     ]
    },
    {
     "name": "stdout",
     "output_type": "stream",
     "text": [
      "Done 210\n",
      "Done 220\n",
      "Done 230\n",
      "Done 240\n",
      "Done 250\n",
      "Done 260\n",
      "Done 270\n",
      "Done 280\n",
      "Done 290\n",
      "Done 300\n",
      "Done 310\n",
      "Done 320\n",
      "Done 330\n",
      "Done 340\n",
      "Done 350\n",
      "Done 360\n",
      "Done 370\n",
      "Done 380\n",
      "Done 390\n",
      "Done 400\n",
      "Done 410\n",
      "Done 420\n",
      "Done 430\n",
      "Done 440\n",
      "Done 450\n",
      "Done 460\n",
      "Done 470\n",
      "Done 480\n",
      "Done 490\n",
      "Done 500\n",
      "Done 510\n",
      "Done 520\n"
     ]
    },
    {
     "name": "stderr",
     "output_type": "stream",
     "text": [
      "Warning: Cannot load daily/08329.csv.gz from https://bulk.meteostat.net/v2/\n"
     ]
    },
    {
     "name": "stdout",
     "output_type": "stream",
     "text": [
      "Done 530\n",
      "Done 540\n",
      "Done 550\n",
      "Done 560\n",
      "Done 570\n",
      "Done 580\n",
      "Done 590\n",
      "Done 600\n",
      "Done 610\n",
      "Done 620\n",
      "Done 630\n",
      "Done 640\n",
      "Done 650\n",
      "Done 660\n",
      "Done 670\n",
      "Done 680\n",
      "Done 690\n",
      "Done 700\n",
      "Done 710\n",
      "Done 720\n",
      "Done 730\n",
      "Done 740\n",
      "Done 750\n",
      "Done 760\n",
      "Done 770\n",
      "Done 780\n",
      "Done 790\n",
      "Done 800\n",
      "Done 810\n",
      "Done 820\n",
      "Done 830\n",
      "Done 840\n",
      "Done 850\n",
      "Done 860\n",
      "Done 870\n",
      "Done 880\n",
      "Done 890\n",
      "Done 900\n",
      "Done 910\n",
      "Done 920\n",
      "Done 930\n",
      "Done 940\n",
      "Done 950\n",
      "Done 960\n",
      "Done 970\n",
      "Done 980\n",
      "Done 990\n",
      "Done 1000\n",
      "Done 1010\n",
      "Done 1020\n",
      "Done 1030\n",
      "Done 1040\n",
      "Done 1050\n",
      "Done 1060\n",
      "Done 1070\n",
      "Done 1080\n",
      "Done 1090\n",
      "Done 1100\n",
      "Done 1110\n",
      "Done 1120\n",
      "Done 1130\n",
      "Done 1140\n",
      "Done 1150\n",
      "Done 1160\n",
      "Done 1170\n",
      "Done 1180\n",
      "Done 1190\n",
      "Done 1200\n",
      "Done 1210\n",
      "Done 1220\n",
      "Done 1230\n",
      "Done 1240\n",
      "Done 1250\n",
      "Done 1260\n",
      "Done 1270\n",
      "Done 1280\n",
      "Done 1290\n",
      "Done 1300\n",
      "Done 1310\n",
      "Done 1320\n",
      "Done 1330\n",
      "Done 1340\n",
      "Done 1350\n",
      "Done 1360\n",
      "Done 1370\n",
      "Done 1380\n",
      "Done 1390\n",
      "Done 1400\n",
      "Done 1410\n",
      "Done 1420\n",
      "Done 1430\n",
      "Done 1440\n",
      "Done 1450\n",
      "Done 1460\n",
      "Done 1470\n",
      "Done 1480\n",
      "Done 1490\n",
      "Done 1500\n",
      "Done 1510\n",
      "Done 1520\n"
     ]
    }
   ],
   "source": [
    "dfT = getClimateNormals(pnts_in_poly,False) ## warnings are normal"
   ]
  },
  {
   "cell_type": "code",
   "execution_count": 136,
   "id": "5c7defa8",
   "metadata": {},
   "outputs": [],
   "source": [
    "dfT = dfT.to_pickle(\"WeatherAndClimateData/ClimateNormals_%s.pickle.gz\"%(country_name))"
   ]
  },
  {
   "cell_type": "code",
   "execution_count": null,
   "id": "e203bf96",
   "metadata": {},
   "outputs": [],
   "source": []
  }
 ],
 "metadata": {
  "kernelspec": {
   "display_name": "Python 3 (ipykernel)",
   "language": "python",
   "name": "python3"
  },
  "language_info": {
   "codemirror_mode": {
    "name": "ipython",
    "version": 3
   },
   "file_extension": ".py",
   "mimetype": "text/x-python",
   "name": "python",
   "nbconvert_exporter": "python",
   "pygments_lexer": "ipython3",
   "version": "3.10.6"
  }
 },
 "nbformat": 4,
 "nbformat_minor": 5
}
