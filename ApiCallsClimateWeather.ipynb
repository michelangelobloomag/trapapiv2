{
 "cells": [
  {
   "cell_type": "markdown",
   "id": "b2d92970",
   "metadata": {},
   "source": [
    "### Script that generates the bootstrapped version of trap readings for Spain ###\n",
    "\n",
    "* needs to have weather / climate models precomputed on daily basis (weather only)\n",
    "* works for all pests but all models should be per pest "
   ]
  },
  {
   "cell_type": "code",
   "execution_count": 1,
   "id": "76b46643",
   "metadata": {},
   "outputs": [],
   "source": [
    "import pickle\n",
    "import pandas as pd\n",
    "import numpy as np\n",
    "import matplotlib.pyplot as plt"
   ]
  },
  {
   "cell_type": "code",
   "execution_count": 2,
   "id": "592358d6",
   "metadata": {},
   "outputs": [],
   "source": [
    "from sklearn.model_selection import train_test_split\n",
    "from sklearn.model_selection import KFold \n",
    "from sklearn.metrics import r2_score\n",
    "from sklearn.ensemble import AdaBoostRegressor\n",
    "from sklearn.tree import DecisionTreeRegressor\n",
    "\n",
    "from sklearn.ensemble import GradientBoostingRegressor\n",
    "from sklearn.metrics import mean_pinball_loss, mean_squared_error"
   ]
  },
  {
   "cell_type": "code",
   "execution_count": 3,
   "id": "1e287743",
   "metadata": {},
   "outputs": [],
   "source": [
    "import libbloom as lb"
   ]
  },
  {
   "cell_type": "code",
   "execution_count": 72,
   "id": "7207b8ff",
   "metadata": {},
   "outputs": [],
   "source": [
    "from scipy.optimize import curve_fit\n",
    "from scipy import stats"
   ]
  },
  {
   "cell_type": "code",
   "execution_count": 5,
   "id": "c5704669",
   "metadata": {},
   "outputs": [],
   "source": [
    "import warnings\n",
    "warnings.filterwarnings(\"ignore\")"
   ]
  },
  {
   "cell_type": "code",
   "execution_count": 6,
   "id": "a7a35bd8",
   "metadata": {},
   "outputs": [],
   "source": [
    "def logifunc(x,l,c,k):\n",
    "    global delta\n",
    "    return l / (1 + c*np.exp(-k*x)) + delta "
   ]
  },
  {
   "cell_type": "code",
   "execution_count": 7,
   "id": "37506f54",
   "metadata": {},
   "outputs": [],
   "source": [
    "def poli(x,a,b,c,d):\n",
    "    global delta\n",
    "    return a*x**4 + b*x**3 + c*x**2 + d*x + delta "
   ]
  },
  {
   "cell_type": "code",
   "execution_count": 8,
   "id": "5831843e",
   "metadata": {},
   "outputs": [],
   "source": [
    "def fitL(ds,polin =False):\n",
    "    xdata = np.arange(len(ds))\n",
    "    ydata = ds.values\n",
    "    if(polin):\n",
    "        popt, pcov = curve_fit(poli, xdata, ydata)\n",
    "        a,b,c,d = popt\n",
    "        ycs = []\n",
    "        for x in xdata:\n",
    "            ycs.append(poli(x,a,b,c,d) )\n",
    "        dm = pd.DataFrame(index = ds.index, data = {'data' : ds.values, 'polinomial' : ycs})        \n",
    "        \n",
    "    else:\n",
    "        popt, pcov = curve_fit(logifunc, xdata, ydata)\n",
    "        l,c,k = popt\n",
    "        ycs = []\n",
    "        for x in xdata:\n",
    "            ycs.append(logifunc(x,l,c,k) )\n",
    "        dm = pd.DataFrame(index = ds.index, data = {'data' : ds.values, 'logistic' : ycs})\n",
    "    return dm, popt"
   ]
  },
  {
   "cell_type": "code",
   "execution_count": 9,
   "id": "47dca851",
   "metadata": {},
   "outputs": [],
   "source": [
    "def nestModels(point_and_elevation,model_gen,model_press,model_wind,gbr = False):\n",
    "    # args:\n",
    "    # point_and_elevation =  [lat, lon, elevation] as a numpy array shape (1,3)\n",
    "    #\n",
    "    # example \n",
    "    # pp = np.array([3.94824123e+01, -4.88099096e-01,  8.50000000e+01]).reshape(1,-1)\n",
    "    #\n",
    "    #\n",
    "    def checkShape(s):\n",
    "        if(s.shape == (1,3)):\n",
    "            return True\n",
    "        else:\n",
    "            return False\n",
    "    \n",
    "    if(checkShape(point_and_elevation)):\n",
    "        wind_prediction = model_wind.predict(point_and_elevation)[0]\n",
    "        pressure_prediction = model_press.predict(point_and_elevation)[0]\n",
    "        # nest the predictions \n",
    "        extended_point = np.append(point_and_elevation,[pressure_prediction,wind_prediction]).reshape(1,-1)\n",
    "        \n",
    "        if(gbr):\n",
    "            ddps = []\n",
    "            for md in model_gen.values():\n",
    "                ddays_prediction = md.predict(extended_point)[0]\n",
    "                ddps.append(ddays_prediction)\n",
    "            return ddps\n",
    "        else:\n",
    "            ddays_prediction = model_gen.predict(extended_point)[0]\n",
    "            return ddays_prediction\n",
    "    else:\n",
    "        print(\"point_and_elevation should have shape: (1,3)\")\n",
    "        return False"
   ]
  },
  {
   "cell_type": "code",
   "execution_count": 10,
   "id": "7e45f59d",
   "metadata": {},
   "outputs": [],
   "source": [
    "def genApproxCurves(dfd, polin = True):\n",
    "    params_ln = {}\n",
    "    genR = {}\n",
    "    global delta\n",
    "    for q in dfd.columns:\n",
    "        delta = np.mean(dfd[q].values[0:3])\n",
    "        if(polin):\n",
    "            genR[q] ,params_ln[q] = fitL(dfd[q],True)\n",
    "            dfd = dfd.assign(tm = genR[q].polinomial.values)\n",
    "        else:\n",
    "            genR[q] ,params_ln[q] = fitL(dfd[q],False)\n",
    "            dfd = dfd.assign(tm = genR[q].logistic.values - genR[q].logistic.values[0])\n",
    "        dfd = dfd.rename(columns={'tm' : '%s_pl'%(q)})\n",
    "    return dfd,params_ln"
   ]
  },
  {
   "cell_type": "code",
   "execution_count": 11,
   "id": "f7174114",
   "metadata": {},
   "outputs": [],
   "source": [
    "\n",
    "def generateDDforPoint(pp,models):\n",
    "    preds = []\n",
    "    for dm in models.keys():\n",
    "        model_gen = models[dm]['model_gen']\n",
    "        model_press = models[dm]['model_press']\n",
    "        model_wind = models[dm]['model_wind']\n",
    "        ## uses ddays referring to yesterday\n",
    "        pred = nestModels(pp,model_gen,model_press,model_wind,True) ## predict the ddays for given point\n",
    "        preds.append(pred)\n",
    "        #print(dm)\n",
    "    return preds"
   ]
  },
  {
   "cell_type": "code",
   "execution_count": 12,
   "id": "4da6e0c7",
   "metadata": {},
   "outputs": [],
   "source": [
    "def upperize(dfd,vvar):\n",
    "    def special(ds):\n",
    "        d0 = 0\n",
    "        nv = []\n",
    "        for dd in ds.values:\n",
    "            if(dd >= d0):\n",
    "                nv.append(dd)\n",
    "            else:\n",
    "                nv.append(d0)\n",
    "            d0 = dd\n",
    "\n",
    "        return nv\n",
    "    ds = dfd[vvar]\n",
    "    for r in range(30):\n",
    "        ds = special(pd.Series(ds))    \n",
    "    return ds\n",
    "        "
   ]
  },
  {
   "cell_type": "code",
   "execution_count": 13,
   "id": "d5744713",
   "metadata": {},
   "outputs": [],
   "source": [
    "def getValuesFromModels(pp,models,date):\n",
    "    \n",
    "    preds = generateDDforPoint(pp,models)\n",
    "    PA = np.array(preds)\n",
    "    \n",
    "    dfd = pd.DataFrame(PA, columns=['q05','q50','q95'])\n",
    "    dindex = pd.date_range(start = '2023-01-01', end=date, freq='D')\n",
    "    dfd = dfd.iloc[0:len(dindex)]\n",
    "    dfd.index = dindex\n",
    "    \n",
    "    dfd,params_ln = genApproxCurves(dfd,False)\n",
    "    dfd['q05_r'] = upperize(dfd,'q05')\n",
    "    dfd['q50_r'] = upperize(dfd,'q50')\n",
    "    dfd['q95_r'] = upperize(dfd,'q95')\n",
    "    dfds = dfd[['q05_r','q50_r','q95_r']]\n",
    "    dfds,params_ln = genApproxCurves(dfds,True)    \n",
    "    return dfds\n"
   ]
  },
  {
   "cell_type": "code",
   "execution_count": null,
   "id": "c4d5770e",
   "metadata": {},
   "outputs": [],
   "source": []
  },
  {
   "cell_type": "code",
   "execution_count": 46,
   "id": "6b9f36e4",
   "metadata": {},
   "outputs": [],
   "source": [
    "def generatePrediction(lat,lon,elev,date):\n",
    "    pp = np.array([lat,lon,elev]).reshape(1,-1)\n",
    "    today, yesterday,firstJan = lb.getUtilDates()\n",
    "    if(pd.to_datetime(date) > pd.to_datetime(today)):\n",
    "        print(\"O\")\n",
    "        dfds = getValuesFromModels(pp,modelsClimate,date)\n",
    "        dfdsw = getValuesFromModels(pp,modelsWeather,yesterday)\n",
    "        deltay = dfdsw.loc[yesterday] - dfds.loc[yesterday]\n",
    "        delta_r_pl_y = deltay['q50_r_pl']\n",
    "        mounted = pd.concat([dfdsw[dfdsw.index < pd.to_datetime(today)] , \n",
    "                             dfds[dfds.index >= pd.to_datetime(today)] + delta_r_pl_y], axis = 0)\n",
    "        ## forecast + actual\n",
    "    else:\n",
    "        print(\"M\")\n",
    "        mounted = getValuesFromModels(pp,modelsWeather,date)\n",
    "\n",
    "    return mounted"
   ]
  },
  {
   "cell_type": "code",
   "execution_count": 55,
   "id": "ee2d197e",
   "metadata": {},
   "outputs": [],
   "source": [
    "def getPeaks(dfPest,mounted_df, fitted = True):\n",
    "    flights = dfPest[dfPest.flight_peak == 1]\n",
    "    ddays_vect = flights.ddays_C.values\n",
    "    if(fitted):\n",
    "        dd_data = mounted_df['q50_r_pl']\n",
    "    else:\n",
    "        dd_data = mounted_df['q50_r']\n",
    "    peaks = []\n",
    "    for dv in ddays_vect:\n",
    "        event = dd_data[dd_data > dv].head(1)\n",
    "        try:\n",
    "            dayEvent = event.index[0]\n",
    "            peaks.append(dayEvent)\n",
    "        except:\n",
    "            pass\n",
    "    return peaks"
   ]
  },
  {
   "cell_type": "code",
   "execution_count": 82,
   "id": "7cefb1bc",
   "metadata": {},
   "outputs": [],
   "source": [
    "def minMax(s,rescale = 140):\n",
    "    s1 = rescale * (s - s.min()) / (s.max() - s.min())\n",
    "    return s1"
   ]
  },
  {
   "cell_type": "code",
   "execution_count": 102,
   "id": "0538fb42",
   "metadata": {},
   "outputs": [],
   "source": [
    "def getLevelsPopulations(intvs,peaks, rescale = 140 ):\n",
    "    hists = []\n",
    "    stot = []\n",
    "\n",
    "\n",
    "    \n",
    "    for r in range(50):\n",
    "        rvv = []\n",
    "\n",
    "        shift = -3\n",
    "        for e in intvs:\n",
    "            m = e + shift\n",
    "            alpha = np.random.uniform(3,4)\n",
    "            beta = np.random.uniform(2,4)\n",
    "            rv = stats.gamma.rvs(alpha, loc=m, scale=beta, size=1000) #~100 points per day (to ensure statistics)\n",
    "            rvv.append(pd.Series(rv))\n",
    "        cnt = pd.concat(rvv)\n",
    "        his  = np.histogram(cnt.values, bins = int(cnt.max()), density=True)\n",
    "        hists.append(his[0])\n",
    "        stot.append(pd.Series(index = np.arange(len(his[0])), data = his[0]))\n",
    "\n",
    "    idx = pd.date_range(start = peaks[0], end=peaks[-1], freq='D')\n",
    "    mm = pd.concat(stot, axis = 0)\n",
    "    dfT_median = mm.groupby(mm.index).median()\n",
    "    dfT_q05 = mm.groupby(mm.index).quantile(0.05)\n",
    "    dfT_q95 = mm.groupby(mm.index).quantile(0.95)\n",
    "\n",
    "\n",
    "    \n",
    "    dfk = minMax(dfT_median,rescale)\n",
    "    dfk_q05 = dfk * (dfT_q05 / (dfT_median + np.random.uniform(0,0.001)))\n",
    "    dfk_q95 = dfk * (dfT_q95 / (dfT_median+ np.random.uniform(0,0.001)))\n",
    "    \n",
    "    return dfk_q05,dfk,dfk_q95\n",
    "    "
   ]
  },
  {
   "cell_type": "code",
   "execution_count": 118,
   "id": "9d9086a2",
   "metadata": {},
   "outputs": [],
   "source": [
    "def getReadingsSeries(dfSpodoptera,mounted):\n",
    "    peaks = getPeaks(dfSpodoptera,mounted)\n",
    "    deltas = [0] + [d.days for d in pd.Series(peaks).diff().fillna(0).values if d != 0]\n",
    "    dfk_q05,dfk,dfk_q95 = getLevelsPopulations(deltas,peaks)\n",
    "    idx = mounted.iloc[-len(dfk)-1:-1].index\n",
    "    dfk.index = idx\n",
    "    dfk_q05.index = idx\n",
    "    dfk_q95.index = idx\n",
    "    return dfk_q05,dfk,dfk_q95"
   ]
  },
  {
   "cell_type": "code",
   "execution_count": 2,
   "id": "6248c56c",
   "metadata": {},
   "outputs": [],
   "source": [
    "def getValuesDate(date, dfk_q05,dfk,dfk_q95):\n",
    "    mmin = int(dfk_q05.loc[date])\n",
    "    mmed =  int(dfk.loc[date])\n",
    "    mmax =  int(dfk_q95.loc[date])\n",
    "    return mmin,mmed,mmax"
   ]
  },
  {
   "cell_type": "code",
   "execution_count": 3,
   "id": "b54168e5",
   "metadata": {},
   "outputs": [],
   "source": [
    "def apiResponse(lat,lon,date):\n",
    "    elev = lb.getElevationUSGS(lat,lon)\n",
    "    mounted = generatePrediction(lat,lon,elev,date)\n",
    "    dfk_q05,dfk,dfk_q95 = getReadingsSeries(dfSpodoptera,mounted)\n",
    "    mmin,mmed,mmax = getValuesDate(date, dfk_q05,dfk,dfk_q95)\n",
    "    return mmin,mmed,mmax "
   ]
  },
  {
   "cell_type": "markdown",
   "id": "d06eb1ea",
   "metadata": {},
   "source": [
    "### initialization ###"
   ]
  },
  {
   "cell_type": "code",
   "execution_count": 33,
   "id": "df6ba575",
   "metadata": {},
   "outputs": [],
   "source": [
    "savedir = \"savedModels/spodoptera/\"\n",
    "outmodelWeather = savedir + \"WeatherModels.pickle\"\n",
    "outmodelClimate = savedir + \"ClimateModels.pickle\"\n",
    "modelsClimate = pickle.load(open(outmodelClimate,\"rb\"))\n",
    "modelsWeather = pickle.load(open(outmodelWeather,\"rb\"))\n",
    "dfSpodoptera = pd.read_csv (\"Spodoptera_events.csv\") ## this is the file for spodoptera"
   ]
  },
  {
   "cell_type": "markdown",
   "id": "f0d40f62",
   "metadata": {},
   "source": [
    "**Example call**"
   ]
  },
  {
   "cell_type": "code",
   "execution_count": null,
   "id": "5e8d754d",
   "metadata": {},
   "outputs": [],
   "source": [
    "lat = 38.24\n",
    "lon = -4.8\n",
    "date = '2023-08-21'\n",
    "mmin,mmed,mmax = apiResponse(lat,lon,date)"
   ]
  },
  {
   "cell_type": "code",
   "execution_count": 125,
   "id": "6afda2e4",
   "metadata": {},
   "outputs": [
    {
     "data": {
      "text/plain": [
       "(29, 80, 115)"
      ]
     },
     "execution_count": 125,
     "metadata": {},
     "output_type": "execute_result"
    }
   ],
   "source": [
    "mmin,mmed,mmax"
   ]
  },
  {
   "cell_type": "code",
   "execution_count": null,
   "id": "578c173c",
   "metadata": {},
   "outputs": [],
   "source": []
  }
 ],
 "metadata": {
  "kernelspec": {
   "display_name": "Python 3 (ipykernel)",
   "language": "python",
   "name": "python3"
  },
  "language_info": {
   "codemirror_mode": {
    "name": "ipython",
    "version": 3
   },
   "file_extension": ".py",
   "mimetype": "text/x-python",
   "name": "python",
   "nbconvert_exporter": "python",
   "pygments_lexer": "ipython3",
   "version": "3.10.6"
  }
 },
 "nbformat": 4,
 "nbformat_minor": 5
}
